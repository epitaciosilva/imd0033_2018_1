{
 "cells": [
  {
   "cell_type": "markdown",
   "metadata": {},
   "source": [
    "## Turma 2 - Unidade 03 - Avaliação\n",
    "\n",
    "- **Aluno**: --preencher o nome completo--\n",
    "- **Matrícula**: --preencer com a matrícula--\n",
    "\n",
    "<br>\n",
    "<div class=\"alert alert-info\">\n",
    "<b>Avisos.</b>\n",
    "</div>\n",
    "\n",
    "1. O notebook deverá ser renomeado para o nome completo do aluno seguindo o formato: Ivanovitch_Medeiros_Dantas_da_Silva.ipynb\n",
    "2. Todas as questões devem ser respondidas através de códigos escritos em linguagem Python e no espaço destinado para esse fim. Criem células Markdown para destacar quando inicia e termina as questões. \n",
    "3. O notebook resultante deverá ser enviado através do Sigaa conforme tarefa cadastrada pelo professor. Ressalta-se que após o horário de final da aula, a submissão da tarefa estará fechada no Sigaa. \n",
    "4. Os arquivo das bases de dados não devem ser alterados. "
   ]
  },
  {
   "cell_type": "markdown",
   "metadata": {},
   "source": [
    "Desde 1930 a cada 04 anos temos a oportunidade de vivenciar um grande evento futebolístico, a [Copa do Mundo de Futebol](https://pt.wikipedia.org/wiki/Copa_do_Mundo_FIFA_de_2018). Nessa avaliação iremos analisar um pouco mais sobre os dados dessa competição."
   ]
  },
  {
   "cell_type": "markdown",
   "metadata": {},
   "source": [
    "### 1. ( 4,0 pontos) \n",
    "Utilize nessa questão o conjunto de dados representado pelo arquivo \"CopaMundoGeral.csv\". A leitura correta do arquivo é parte da avaliação. No arquivo é possível perceber as seguintes colunas:\n",
    "\n",
    "- **Ano**: ano que a Copa do Mundo ocorreu.\n",
    "- **Organizador**: país que organizou o evento.\n",
    "- **Campeao, Vice, Terceiro, Quarto**: as principais colocações da Copa do Mundo.\n",
    "- **Gols**: número total de gols na competição.\n",
    "- **Numero\\_Selecoes**: quantidade de seleções participantes.\n",
    "- **Jogos_Disputados**: número de jogos disputados.\n",
    "- **Torcedores**: quantidade de torcedores. \n",
    "\n",
    "a) (1,5 pontos) Encontre a assimetria da distribuição de Torcedores e justifique/interprete o resultado a partir de um gráfico. (sugestão: utilizar a função *sns.distplot*). O texto da justificativa/interpretação deverá ser realizado em formato de Markdown. \n",
    "\n",
    "b) (1,5 pontos) A partir da análise do curtose da distribuição de Gols pode-se chegar a qual conclusão? Justifique a sua resposta baseada em um gráfico de sua escolha e no valor do curtose. O texto da justificativa deverá ser realizado em formato de Markdown. \n",
    "\n",
    "c) (1,0 ponto) Utilizando como base um gráfico de caixa (box-plot) faça uma análise sobre os valores da média e mediana das distribuições de Gols e Torcedores. Adicionalmente, utilize as informações da variância e desvio padrão dessas distribuições para reforçar as suas conclusões. O texto da análise deverá ser realizado em formato de Markdown. "
   ]
  },
  {
   "cell_type": "markdown",
   "metadata": {},
   "source": [
    "### 2. ( 6,0 pontos) \n",
    "\n",
    "Utilize nessa questão o conjunto de dados representado pelo arquivo \"jogos.csv\". A leitura correta do arquivo é parte da avaliação. No arquivo é possível perceber as seguintes colunas:\n",
    "\n",
    "- **data**: período que foi realizado o jogo.\n",
    "- **Selecao_a e Selecao_b**: seleções que disputaram o jogo.\n",
    "- **gols_a e gols_b**: gols realizados pelas respectivas seleções.\n",
    "- **organizador**: país sede do evento.\n",
    "\n",
    "a) (1,0 ponto) Considerando o histórico de gols em todas as partidas de todas as Copas do Mundo, qual a probabilidade que em um jogo tenhamos pelo menos um gol? E que não tenhamos gol? Justifique a sua resposta. O texto da justificativa deverá ser realizado em formato de Markdown. \n",
    "\n",
    "b) (1,0 ponto) Qual a quantidade de gols por partida mais comum considerando todas as partidas de todas as Copas do Mundo? Justifique a sua resposta. O texto da justificativa deverá ser realizado em formato de Markdown. \n",
    "\n",
    "c) (1,0 ponto) Qual o placar mais comum considerando todas as partidas de todas as Copas do Mundo? Justifique a sua resposta. O texto da justificativa deverá ser realizado em formato de Markdown. \n",
    "\n",
    "d) (2,0 pontos) Considere **p** como sendo a probabilidade de que ocorra pelo menos 1 gol em uma partida (considerando todas as partidas de todas as Copas do Mundo). Assuma **N** o número de jogos disputados pelas copas do mundo organizadas pelo Brasil (na base de dados a grafia está 'Brazil'). Considerando que o número de gols em uma partida de copa do mundo realizada no Brasil segue uma distribuição Binomial, qual a probabilidade de que pelo menos 20 partidas tenham ao menos 3 gols?\n",
    "\n",
    "e) (1,0 ponto) Qual conclusão é possível extrair da correlação entre as colunas gols_a e gols_b? Justifique a sua resposta apropriadamente indicando o fator de correlação e uma figura de livre escolha. O texto da justificativa deverá ser realizado em formato de Markdown. \n"
   ]
  }
 ],
 "metadata": {
  "kernelspec": {
   "display_name": "Python 3",
   "language": "python",
   "name": "python3"
  },
  "language_info": {
   "codemirror_mode": {
    "name": "ipython",
    "version": 3
   },
   "file_extension": ".py",
   "mimetype": "text/x-python",
   "name": "python",
   "nbconvert_exporter": "python",
   "pygments_lexer": "ipython3",
   "version": "3.6.4"
  }
 },
 "nbformat": 4,
 "nbformat_minor": 2
}
